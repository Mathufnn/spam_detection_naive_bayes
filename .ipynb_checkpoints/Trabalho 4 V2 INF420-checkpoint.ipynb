{
 "cells": [
  {
   "cell_type": "markdown",
   "metadata": {},
   "source": [
    "<h1>Trabalho 4 - Inteligência Artificial - INF420</h1>\n",
    "\n",
    "Autor: Matheus Ferreira Nunes - 92537\n",
    "\n",
    "Classificando e-mails de SPAM usando naive bayes na biblioteca sklearn."
   ]
  },
  {
   "cell_type": "code",
   "execution_count": 128,
   "metadata": {},
   "outputs": [],
   "source": [
    "import string\n",
    "import re\n",
    "import random\n",
    "import os\n",
    "import numpy as np\n",
    "import pandas as pd\n",
    "from sklearn import preprocessing\n",
    "from sklearn.naive_bayes import MultinomialNB\n",
    "from sklearn.model_selection import train_test_split\n",
    "from sklearn.feature_extraction.text import CountVectorizer\n",
    "from sklearn.metrics import confusion_matrix \n",
    "from sklearn.metrics import recall_score"
   ]
  },
  {
   "cell_type": "code",
   "execution_count": 98,
   "metadata": {},
   "outputs": [],
   "source": [
    "# entrada de arquivos.\n",
    "# cria-se uma lista de strings chamada text, com os textos de cada email.\n",
    "# note que o email possui vários caracteres diferentes das letras do alfabeto,\n",
    "# todos esses caracteres serão removidos para obter uma eficácia melhor na classificação.\n",
    "\n",
    "emails = [os.path.join('DATA/',f) for f in os.listdir('DATA/')]\n",
    "text = []\n",
    "regex = re.compile('[^a-zA-Z]')\n",
    "for mail in emails:\n",
    "    with open(mail, errors='ignore') as m:\n",
    "        email_words = \"\"\n",
    "        for line in m:\n",
    "            line = regex.sub(' ', line)\n",
    "            email_words += line\n",
    "        text.append(email_words)"
   ]
  },
  {
   "cell_type": "code",
   "execution_count": 99,
   "metadata": {},
   "outputs": [],
   "source": [
    "# leitura dos rótulos.\n",
    "# foi usada uma cópia do arquivo SPAMTrain.label, por dificuldade de lidar com o tipo desse arquivo.\n",
    "\n",
    "labels = []\n",
    "i = 0\n",
    "with open('spam_train.txt') as f:\n",
    "        for line in f:\n",
    "            labels.append(line[0])\n",
    "            \n",
    "labels = np.array(labels)"
   ]
  },
  {
   "cell_type": "code",
   "execution_count": 120,
   "metadata": {},
   "outputs": [
    {
     "data": {
      "text/html": [
       "<div>\n",
       "<style scoped>\n",
       "    .dataframe tbody tr th:only-of-type {\n",
       "        vertical-align: middle;\n",
       "    }\n",
       "\n",
       "    .dataframe tbody tr th {\n",
       "        vertical-align: top;\n",
       "    }\n",
       "\n",
       "    .dataframe thead th {\n",
       "        text-align: right;\n",
       "    }\n",
       "</style>\n",
       "<table border=\"1\" class=\"dataframe\">\n",
       "  <thead>\n",
       "    <tr style=\"text-align: right;\">\n",
       "      <th></th>\n",
       "      <th>email</th>\n",
       "      <th>index</th>\n",
       "      <th>label</th>\n",
       "    </tr>\n",
       "  </thead>\n",
       "  <tbody>\n",
       "    <tr>\n",
       "      <th>0</th>\n",
       "      <td>One of a kind Money maker  Try it for free Fro...</td>\n",
       "      <td>0</td>\n",
       "      <td>0</td>\n",
       "    </tr>\n",
       "    <tr>\n",
       "      <th>1</th>\n",
       "      <td>link to my webcam you wanted Wanna see sexuall...</td>\n",
       "      <td>1</td>\n",
       "      <td>0</td>\n",
       "    </tr>\n",
       "    <tr>\n",
       "      <th>2</th>\n",
       "      <td>Re  How to manage multiple Internet connection...</td>\n",
       "      <td>2</td>\n",
       "      <td>1</td>\n",
       "    </tr>\n",
       "    <tr>\n",
       "      <th>3</th>\n",
       "      <td>SPAM   Give her   hour rodeoEnhance your desi...</td>\n",
       "      <td>3</td>\n",
       "      <td>0</td>\n",
       "    </tr>\n",
       "    <tr>\n",
       "      <th>4</th>\n",
       "      <td>Best Price on the netf f m   suddenlysusan Sto...</td>\n",
       "      <td>4</td>\n",
       "      <td>0</td>\n",
       "    </tr>\n",
       "    <tr>\n",
       "      <th>5</th>\n",
       "      <td>linux ie mailing list memberships reminderThis...</td>\n",
       "      <td>5</td>\n",
       "      <td>1</td>\n",
       "    </tr>\n",
       "    <tr>\n",
       "      <th>6</th>\n",
       "      <td>Re  Apple Sauced   againAt      AM       on   ...</td>\n",
       "      <td>6</td>\n",
       "      <td>1</td>\n",
       "    </tr>\n",
       "    <tr>\n",
       "      <th>7</th>\n",
       "      <td>Re  results for giant mass check  phew I never...</td>\n",
       "      <td>7</td>\n",
       "      <td>1</td>\n",
       "    </tr>\n",
       "    <tr>\n",
       "      <th>8</th>\n",
       "      <td>Re  RPM s  post   postun etcHave you tried reb...</td>\n",
       "      <td>8</td>\n",
       "      <td>1</td>\n",
       "    </tr>\n",
       "    <tr>\n",
       "      <th>9</th>\n",
       "      <td>Re  Fwd  Re  Kde        On   May             L...</td>\n",
       "      <td>9</td>\n",
       "      <td>1</td>\n",
       "    </tr>\n",
       "  </tbody>\n",
       "</table>\n",
       "</div>"
      ],
      "text/plain": [
       "                                               email  index label\n",
       "0  One of a kind Money maker  Try it for free Fro...      0     0\n",
       "1  link to my webcam you wanted Wanna see sexuall...      1     0\n",
       "2  Re  How to manage multiple Internet connection...      2     1\n",
       "3   SPAM   Give her   hour rodeoEnhance your desi...      3     0\n",
       "4  Best Price on the netf f m   suddenlysusan Sto...      4     0\n",
       "5  linux ie mailing list memberships reminderThis...      5     1\n",
       "6  Re  Apple Sauced   againAt      AM       on   ...      6     1\n",
       "7  Re  results for giant mass check  phew I never...      7     1\n",
       "8  Re  RPM s  post   postun etcHave you tried reb...      8     1\n",
       "9  Re  Fwd  Re  Kde        On   May             L...      9     1"
      ]
     },
     "execution_count": 120,
     "metadata": {},
     "output_type": "execute_result"
    }
   ],
   "source": [
    "# separando conjunto de treino e teste\n",
    "# foi feito um dataframe para ilustrar melhor os emails e seus rótulos.\n",
    "\n",
    "X = pd.DataFrame({'email':text, 'index': [i for i in range(0,len(text))], 'label':[i for i in labels]})\n",
    "y = labels\n",
    "\n",
    "X_train, X_test, y_train, y_test = train_test_split(X.email, y, test_size=0.2)\n",
    "X.head(10)"
   ]
  },
  {
   "cell_type": "code",
   "execution_count": 106,
   "metadata": {},
   "outputs": [],
   "source": [
    "# vetorizando as palavras.\n",
    "# essa etapa é necessária para garantir o funcionamento do classificador,\n",
    "# que é baseado na frequência (probabilidade) de ocorrência das palavras,\n",
    "# portanto a palavra em si não importa e deve ser trocada para uma matriz de numeros.\n",
    "\n",
    "vectorizer = CountVectorizer()\n",
    "counts = vectorizer.fit_transform(X_train)"
   ]
  },
  {
   "cell_type": "code",
   "execution_count": 107,
   "metadata": {},
   "outputs": [
    {
     "data": {
      "text/plain": [
       "MultinomialNB(alpha=1.0, class_prior=None, fit_prior=True)"
      ]
     },
     "execution_count": 107,
     "metadata": {},
     "output_type": "execute_result"
    }
   ],
   "source": [
    "# treinando o modelo.\n",
    "# essa etapa aplica o algoritmo Naive Bayes (bayes ingênuo em brazuquês).\n",
    "# o funcionamento do algoritmo fica implícito na implementação.\n",
    "# python facilita até demais a nossa vida.\n",
    "\n",
    "classifier = MultinomialNB()\n",
    "targets = y_train\n",
    "classifier.fit(counts, targets)"
   ]
  },
  {
   "cell_type": "code",
   "execution_count": 136,
   "metadata": {},
   "outputs": [
    {
     "name": "stdout",
     "output_type": "stream",
     "text": [
      "test score =  0.9595842956120092\n",
      "(866,)\n",
      "(866,)\n"
     ]
    }
   ],
   "source": [
    "# avaliando o modelo.\n",
    "# as métricas são: acurácia, recall, precision e matriz de confusão.\n",
    "\n",
    "vec_test = vectorizer.transform(X_test)\n",
    "prediction = classifier.predict(vec_test)\n",
    "print(\"test score = \",np.count_nonzero(prediction == y_test) / len(y_test))\n",
    "\n",
    "\n",
    "from sklearn.metrics import average_precision_score\n",
    "recall_average = recall_score(y_test, prediction, average=\"binary\", pos_label=['0','1'])\n",
    "\n",
    "print(recall_average)"
   ]
  }
 ],
 "metadata": {
  "kernelspec": {
   "display_name": "Python 3",
   "language": "python",
   "name": "python3"
  },
  "language_info": {
   "codemirror_mode": {
    "name": "ipython",
    "version": 3
   },
   "file_extension": ".py",
   "mimetype": "text/x-python",
   "name": "python",
   "nbconvert_exporter": "python",
   "pygments_lexer": "ipython3",
   "version": "3.7.3"
  }
 },
 "nbformat": 4,
 "nbformat_minor": 2
}
